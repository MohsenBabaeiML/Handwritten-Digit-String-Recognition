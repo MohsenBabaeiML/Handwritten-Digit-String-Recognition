{
  "nbformat": 4,
  "nbformat_minor": 0,
  "metadata": {
    "colab": {
      "provenance": [],
      "gpuType": "T4"
    },
    "kernelspec": {
      "name": "python3",
      "display_name": "Python 3"
    },
    "language_info": {
      "name": "python"
    },
    "accelerator": "GPU"
  },
  "cells": [
    {
      "cell_type": "code",
      "execution_count": 1,
      "metadata": {
        "id": "vC-vD_YYrpPT"
      },
      "outputs": [],
      "source": [
        "from tensorflow import keras\n",
        "from keras.models import Sequential\n",
        "from keras.layers import Dense, Flatten, Dropout, BatchNormalization, GlobalAveragePooling2D, Input\n",
        "from keras.layers import Conv2D, MaxPooling2D\n",
        "import numpy as np\n",
        "import matplotlib.pyplot as plt\n",
        "import cv2"
      ]
    },
    {
      "cell_type": "code",
      "source": [
        "(x_train, y_train), (x_test, y_test) = keras.datasets.mnist.load_data()"
      ],
      "metadata": {
        "colab": {
          "base_uri": "https://localhost:8080/"
        },
        "id": "rKRnhl-Vrv0W",
        "outputId": "e1c2f5a9-9121-42ba-e191-2496eb743e58"
      },
      "execution_count": 2,
      "outputs": [
        {
          "output_type": "stream",
          "name": "stdout",
          "text": [
            "Downloading data from https://storage.googleapis.com/tensorflow/tf-keras-datasets/mnist.npz\n",
            "11490434/11490434 [==============================] - 2s 0us/step\n"
          ]
        }
      ]
    },
    {
      "cell_type": "code",
      "source": [
        "x_train = x_train.astype('float32') / 255\n",
        "x_test = x_test.astype('float32') / 255"
      ],
      "metadata": {
        "id": "ju7dlurJrxyd"
      },
      "execution_count": 3,
      "outputs": []
    },
    {
      "cell_type": "code",
      "source": [
        "x_train = x_train.reshape((-1, 28, 28, 1))\n",
        "x_test = x_test.reshape((-1, 28, 28, 1))"
      ],
      "metadata": {
        "id": "WUz5SrBJr8W4"
      },
      "execution_count": 4,
      "outputs": []
    },
    {
      "cell_type": "code",
      "source": [
        "y_train = keras.utils.to_categorical(y_train)\n",
        "y_test = keras.utils.to_categorical(y_test)"
      ],
      "metadata": {
        "id": "7dT75aFXr-iD"
      },
      "execution_count": 5,
      "outputs": []
    },
    {
      "cell_type": "code",
      "source": [
        "model = Sequential()\n",
        "model.add(Input((28,28,1)))\n",
        "model.add(Conv2D(32,kernel_size=3,padding='same',activation='relu'))\n",
        "model.add(BatchNormalization())\n",
        "model.add(Conv2D(32,kernel_size=3,padding='same',activation='relu'))\n",
        "model.add(BatchNormalization())\n",
        "model.add(Conv2D(32,kernel_size=5,strides=2,padding='same',activation='relu'))\n",
        "model.add(BatchNormalization())\n",
        "model.add(Dropout(0.4))\n",
        "\n",
        "model.add(Conv2D(64,kernel_size=3,padding='same',activation='relu'))\n",
        "model.add(BatchNormalization())\n",
        "model.add(Conv2D(64,kernel_size=3,padding='same',activation='relu'))\n",
        "model.add(BatchNormalization())\n",
        "model.add(Conv2D(64,kernel_size=5,strides=2,padding='same',activation='relu'))\n",
        "model.add(BatchNormalization())\n",
        "model.add(Dropout(0.4))\n",
        "\n",
        "model.add(Flatten())\n",
        "model.add(Dense(128, activation='relu'))\n",
        "model.add(Dropout(0.4))\n",
        "model.add(Dense(10, activation='softmax'))"
      ],
      "metadata": {
        "id": "Va51cd-Cr_P2"
      },
      "execution_count": 6,
      "outputs": []
    },
    {
      "cell_type": "code",
      "source": [
        "model.compile(optimizer=\"adam\",loss=\"categorical_crossentropy\",metrics=[\"accuracy\"])"
      ],
      "metadata": {
        "id": "CRHuuSUPsCQM"
      },
      "execution_count": 7,
      "outputs": []
    },
    {
      "cell_type": "code",
      "source": [
        "model.fit(x_train, y_train, batch_size=128, epochs=20, validation_data=(x_test, y_test))"
      ],
      "metadata": {
        "colab": {
          "base_uri": "https://localhost:8080/"
        },
        "id": "YoTCgNE4sEPl",
        "outputId": "6038ad59-fe99-42eb-c44c-bcb4f615eb84"
      },
      "execution_count": 8,
      "outputs": [
        {
          "output_type": "stream",
          "name": "stdout",
          "text": [
            "Epoch 1/20\n",
            "469/469 [==============================] - 20s 23ms/step - loss: 0.2629 - accuracy: 0.9197 - val_loss: 1.7317 - val_accuracy: 0.5659\n",
            "Epoch 2/20\n",
            "469/469 [==============================] - 10s 21ms/step - loss: 0.0857 - accuracy: 0.9747 - val_loss: 0.0412 - val_accuracy: 0.9877\n",
            "Epoch 3/20\n",
            "469/469 [==============================] - 10s 21ms/step - loss: 0.0675 - accuracy: 0.9805 - val_loss: 0.0391 - val_accuracy: 0.9885\n",
            "Epoch 4/20\n",
            "469/469 [==============================] - 10s 21ms/step - loss: 0.0556 - accuracy: 0.9842 - val_loss: 0.0303 - val_accuracy: 0.9904\n",
            "Epoch 5/20\n",
            "469/469 [==============================] - 10s 21ms/step - loss: 0.0481 - accuracy: 0.9863 - val_loss: 0.0189 - val_accuracy: 0.9940\n",
            "Epoch 6/20\n",
            "469/469 [==============================] - 10s 21ms/step - loss: 0.0424 - accuracy: 0.9879 - val_loss: 0.0240 - val_accuracy: 0.9930\n",
            "Epoch 7/20\n",
            "469/469 [==============================] - 10s 21ms/step - loss: 0.0399 - accuracy: 0.9881 - val_loss: 0.0265 - val_accuracy: 0.9927\n",
            "Epoch 8/20\n",
            "469/469 [==============================] - 10s 22ms/step - loss: 0.0353 - accuracy: 0.9896 - val_loss: 0.0187 - val_accuracy: 0.9943\n",
            "Epoch 9/20\n",
            "469/469 [==============================] - 10s 21ms/step - loss: 0.0326 - accuracy: 0.9904 - val_loss: 0.0265 - val_accuracy: 0.9924\n",
            "Epoch 10/20\n",
            "469/469 [==============================] - 10s 22ms/step - loss: 0.0306 - accuracy: 0.9908 - val_loss: 0.0463 - val_accuracy: 0.9870\n",
            "Epoch 11/20\n",
            "469/469 [==============================] - 10s 21ms/step - loss: 0.0299 - accuracy: 0.9914 - val_loss: 0.0207 - val_accuracy: 0.9939\n",
            "Epoch 12/20\n",
            "469/469 [==============================] - 10s 21ms/step - loss: 0.0261 - accuracy: 0.9921 - val_loss: 0.0228 - val_accuracy: 0.9938\n",
            "Epoch 13/20\n",
            "469/469 [==============================] - 10s 21ms/step - loss: 0.0246 - accuracy: 0.9924 - val_loss: 0.0265 - val_accuracy: 0.9924\n",
            "Epoch 14/20\n",
            "469/469 [==============================] - 10s 21ms/step - loss: 0.0250 - accuracy: 0.9927 - val_loss: 0.0204 - val_accuracy: 0.9937\n",
            "Epoch 15/20\n",
            "469/469 [==============================] - 10s 21ms/step - loss: 0.0222 - accuracy: 0.9933 - val_loss: 0.0186 - val_accuracy: 0.9947\n",
            "Epoch 16/20\n",
            "469/469 [==============================] - 10s 21ms/step - loss: 0.0218 - accuracy: 0.9937 - val_loss: 0.0184 - val_accuracy: 0.9941\n",
            "Epoch 17/20\n",
            "469/469 [==============================] - 10s 21ms/step - loss: 0.0196 - accuracy: 0.9938 - val_loss: 0.0193 - val_accuracy: 0.9943\n",
            "Epoch 18/20\n",
            "469/469 [==============================] - 10s 21ms/step - loss: 0.0217 - accuracy: 0.9933 - val_loss: 0.0202 - val_accuracy: 0.9949\n",
            "Epoch 19/20\n",
            "469/469 [==============================] - 10s 21ms/step - loss: 0.0213 - accuracy: 0.9937 - val_loss: 0.0158 - val_accuracy: 0.9952\n",
            "Epoch 20/20\n",
            "469/469 [==============================] - 10s 21ms/step - loss: 0.0170 - accuracy: 0.9948 - val_loss: 0.0209 - val_accuracy: 0.9936\n"
          ]
        },
        {
          "output_type": "execute_result",
          "data": {
            "text/plain": [
              "<keras.src.callbacks.History at 0x7e2d4c5610f0>"
            ]
          },
          "metadata": {},
          "execution_count": 8
        }
      ]
    },
    {
      "cell_type": "code",
      "source": [
        "# Read the input image (make sure it's a binary image)\n",
        "image = cv2.imread('/content/a_car_000160.png', cv2.IMREAD_GRAYSCALE)\n",
        "\n",
        "# Apply thresholding to create a binary image\n",
        "_, binary_image = cv2.threshold(image, 128, 255, cv2.THRESH_BINARY_INV)\n",
        "\n",
        "# Use connectedComponentsWithStats to obtain labels and bounding boxes\n",
        "num_labels, labels, stats, centroids = cv2.connectedComponentsWithStats(binary_image, connectivity=4)"
      ],
      "metadata": {
        "id": "9zeuS-uhyuEH"
      },
      "execution_count": 9,
      "outputs": []
    },
    {
      "cell_type": "code",
      "source": [
        "plt.imshow(binary_image, cmap='gray')"
      ],
      "metadata": {
        "colab": {
          "base_uri": "https://localhost:8080/",
          "height": 234
        },
        "id": "JA9lI-HcyzzX",
        "outputId": "082cbfbf-d9d8-4d43-ad58-9b06aad254b4"
      },
      "execution_count": 11,
      "outputs": [
        {
          "output_type": "execute_result",
          "data": {
            "text/plain": [
              "<matplotlib.image.AxesImage at 0x7e2cd437d510>"
            ]
          },
          "metadata": {},
          "execution_count": 11
        },
        {
          "output_type": "display_data",
          "data": {
            "text/plain": [
              "<Figure size 640x480 with 1 Axes>"
            ],
            "image/png": "[encoded data removed]"
          },
          "metadata": {}
        }
      ]
    },
    {
      "cell_type": "code",
      "source": [
        "x_y = []\n",
        "number_images = []\n",
        "# Iterate through each connected component\n",
        "for label in range(1, num_labels):#num_labels\n",
        "    # Get the bounding box of the current connected component\n",
        "    x, y, w, h = stats[label][:4]\n",
        "\n",
        "    # Crop the connected component using the bounding box\n",
        "    connected_component = np.uint8(binary_image[y:y+h, x:x+w])\n",
        "    x_y.append((x, y))\n",
        "    number_images.append(connected_component)"
      ],
      "metadata": {
        "id": "lRCxN_GIyx4V"
      },
      "execution_count": 12,
      "outputs": []
    },
    {
      "cell_type": "code",
      "source": [
        "plt.imshow(number_images[6], cmap='gray')"
      ],
      "metadata": {
        "colab": {
          "base_uri": "https://localhost:8080/",
          "height": 448
        },
        "id": "bEzccFh8FK2X",
        "outputId": "0a64af67-ae41-4214-f027-de1602a73018"
      },
      "execution_count": 22,
      "outputs": [
        {
          "output_type": "execute_result",
          "data": {
            "text/plain": [
              "<matplotlib.image.AxesImage at 0x7e2cc1b31060>"
            ]
          },
          "metadata": {},
          "execution_count": 22
        },
        {
          "output_type": "display_data",
          "data": {
            "text/plain": [
              "<Figure size 640x480 with 1 Axes>"
            ],
            "image/png": "[encoded data removed]"
          },
          "metadata": {}
        }
      ]
    },
    {
      "cell_type": "code",
      "source": [
        "combined = list(zip(x_y, number_images))\n",
        "sorted_combined = sorted(combined, key=lambda x: x[0][0])\n",
        "x_y, number_images = zip(*sorted_combined)"
      ],
      "metadata": {
        "id": "DiywrUZA3IPO"
      },
      "execution_count": 13,
      "outputs": []
    },
    {
      "cell_type": "code",
      "source": [
        "text = \"\"\n",
        "for img, loc in zip(number_images, x_y):\n",
        "    if img.shape[0] > 8 and img.shape[1] > 8:\n",
        "        img = img.astype('float32') / 255\n",
        "        img = cv2.copyMakeBorder(img, 5,5,5,5,cv2.BORDER_CONSTANT,value=0)\n",
        "        new_img = cv2.resize(img, dsize=(28, 28))\n",
        "        new_img = np.expand_dims(new_img, axis=2)\n",
        "        new_img = np.expand_dims(new_img, axis=0)\n",
        "        number = str(np.argmax(model.predict(new_img, verbose=0)))\n",
        "        text = text + number\n",
        "print(text)"
      ],
      "metadata": {
        "colab": {
          "base_uri": "https://localhost:8080/"
        },
        "id": "rx9Teahwy4Oj",
        "outputId": "5eb9c0e9-b6a0-4be2-d0df-1d525aff733a"
      },
      "execution_count": 15,
      "outputs": [
        {
          "output_type": "stream",
          "name": "stdout",
          "text": [
            "25447\n"
          ]
        }
      ]
    },
    {
      "cell_type": "code",
      "source": [
        "model.save_weights('weight.h5')"
      ],
      "metadata": {
        "id": "baS7wwAjFdQg"
      },
      "execution_count": 23,
      "outputs": []
    }
  ]
}